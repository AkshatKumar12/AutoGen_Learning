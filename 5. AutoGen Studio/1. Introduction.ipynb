{
 "cells": [
  {
   "cell_type": "markdown",
   "id": "83233e52",
   "metadata": {},
   "source": [
    "### AutoGen Studio is a low-code interface built to help you rapidly prototype AI agents, enhance them with tools, compose them into teams and interact with them to accomplish tasks. It is built on AutoGen AgentChat - a high-level API for building multi-agent applications."
   ]
  },
  {
   "cell_type": "markdown",
   "id": "a4182419",
   "metadata": {},
   "source": [
    "![alt text](image.png)"
   ]
  },
  {
   "cell_type": "markdown",
   "id": "59f0829e",
   "metadata": {},
   "source": [
    "#### Capabilities - What Can You Do with AutoGen Studio?\n",
    "AutoGen Studio offers four main interfaces to help you build and manage multi-agent systems:\n",
    "\n",
    "#### Team Builder\n",
    "    A visual interface for creating agent teams through declarative specification (JSON) or drag-and-drop\n",
    "    Supports configuration of all core components: teams, agents, tools, models, and termination conditions\n",
    "    Fully compatible with AgentChat’s component definitions\n",
    "\n",
    "#### Playground\n",
    "    Interactive environment for testing and running agent teams\n",
    "\n",
    "#### Features include:\n",
    "1. Live message streaming between agents\n",
    "    Visual representation of message flow through a control transition graph\n",
    "    Interactive sessions with teams using UserProxyAgent\n",
    "    Full run control with the ability to pause or stop execution\n",
    "\n",
    "2. Gallery\n",
    "    Central hub for discovering and importing community-created components\n",
    "    Enables easy integration of third-party components\n",
    "\n",
    "3. Deployment\n",
    "    Export and run teams in python code\n",
    "    Setup and test endpoints based on a team configuration\n",
    "    Run teams in a docker container."
   ]
  },
  {
   "cell_type": "markdown",
   "id": "53769633",
   "metadata": {},
   "source": []
  }
 ],
 "metadata": {
  "language_info": {
   "name": "python"
  }
 },
 "nbformat": 4,
 "nbformat_minor": 5
}
