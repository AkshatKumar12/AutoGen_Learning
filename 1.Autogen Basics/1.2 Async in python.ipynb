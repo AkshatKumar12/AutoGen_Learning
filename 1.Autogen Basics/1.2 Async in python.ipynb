{
 "cells": [
  {
   "cell_type": "markdown",
   "id": "156e144d",
   "metadata": {},
   "source": [
    "# Async Functionality in Python\n",
    "\n",
    "#### Learn this beacuase AutoGen V4 uses async functionality to make ensure agents can work indepdently. "
   ]
  },
  {
   "cell_type": "code",
   "execution_count": 3,
   "id": "7499e158",
   "metadata": {},
   "outputs": [
    {
     "name": "stdout",
     "output_type": "stream",
     "text": [
      "Python 3.12.0\n"
     ]
    }
   ],
   "source": [
    "!python --version"
   ]
  },
  {
   "cell_type": "markdown",
   "id": "41474231",
   "metadata": {},
   "source": [
    "### Synchorous method (Normal way)\n",
    "#### Total time taken = make_roti + make_tea  = 8 seconds for this case"
   ]
  },
  {
   "cell_type": "code",
   "execution_count": 17,
   "id": "47c79823",
   "metadata": {},
   "outputs": [
    {
     "name": "stdout",
     "output_type": "stream",
     "text": [
      "making tea\n",
      "tea ready\n",
      "3.00\n",
      "making roti\n",
      "roti ready\n",
      "5.00\n"
     ]
    }
   ],
   "source": [
    "import time\n",
    "def make_tea():\n",
    "    print(\"making tea\")\n",
    "    time.sleep(3)    # assuming it takes 3 mins to make tea\n",
    "    print(\"tea ready\")\n",
    "\n",
    "def make_roti():\n",
    "    print(\"making roti\")\n",
    "    time.sleep(5)    # assuming it takes 5 mins to make roti\n",
    "    print(\"roti ready\")\n",
    "\n",
    "def main():\n",
    "    start = time.time() # starting time\n",
    "\n",
    "    tea = make_tea()\n",
    "    tea_complete =time.time()\n",
    "    print(f\"{tea_complete - start:0.2f}\")\n",
    "\n",
    "    roti = make_roti()\n",
    "    roti_complete = time.time();\n",
    "\n",
    "    print(f\"{roti_complete - tea_complete:0.2f}\")\n",
    "main()\n"
   ]
  },
  {
   "cell_type": "markdown",
   "id": "88060858",
   "metadata": {},
   "source": [
    "### Asynchorus way\n",
    "#### This is correct code and will run fine outside of notebook(i.e normal python). Here it is conflicting with ongoing background processed. In this case the total time taken will be max(make_tea , make_roti) = 5 seconds for this case"
   ]
  },
  {
   "cell_type": "code",
   "execution_count": null,
   "id": "23a880af",
   "metadata": {},
   "outputs": [],
   "source": [
    "import asyncio\n",
    "import time\n",
    "\n",
    "async def brew_coffee():\n",
    "    print(\"Starting Brewing Coffee\")\n",
    "    await asyncio.sleep(3)\n",
    "    print(\"Coffee Ready\")\n",
    "\n",
    "async def toast_bagel():\n",
    "    print(\"Start Toasting Bagel\")\n",
    "    await asyncio.sleep(2)\n",
    "    print(\"Bagel Ready\")\n",
    "\n",
    "async def main():\n",
    "    start = time.time()\n",
    "\n",
    "    coffee = brew_coffee()\n",
    "    bagel = toast_bagel()\n",
    "\n",
    "    # Run both coroutines in parallel\n",
    "    await asyncio.gather(coffee, bagel)\n",
    "\n",
    "    end = time.time()\n",
    "\n",
    "    duration = end - start\n",
    "    print(f\"Time : {duration:.2f} seconds\")  \n",
    "\n",
    "\n",
    "asyncio.run(main())\n"
   ]
  },
  {
   "cell_type": "code",
   "execution_count": null,
   "id": "af99def8",
   "metadata": {},
   "outputs": [],
   "source": []
  }
 ],
 "metadata": {
  "kernelspec": {
   "display_name": "agenv",
   "language": "python",
   "name": "python3"
  },
  "language_info": {
   "codemirror_mode": {
    "name": "ipython",
    "version": 3
   },
   "file_extension": ".py",
   "mimetype": "text/x-python",
   "name": "python",
   "nbconvert_exporter": "python",
   "pygments_lexer": "ipython3",
   "version": "3.12.0"
  }
 },
 "nbformat": 4,
 "nbformat_minor": 5
}
