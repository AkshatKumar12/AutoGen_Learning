{
 "cells": [
  {
   "cell_type": "markdown",
   "id": "7ace44b2",
   "metadata": {},
   "source": [
    "# Tools"
   ]
  },
  {
   "cell_type": "markdown",
   "id": "1144a963",
   "metadata": {},
   "source": [
    "#### Tools are code that can be executed by an agent to perform actions. A tool can be a simple function such as a calculator, or an API call to a third-party service such as stock price lookup or weather forecast. In the context of AI agents, tools are designed to be executed by agents in response to model-generated function calls.\n",
    "\n",
    "#### AutoGen provides the autogen_core.tools module with a suite of built-in tools and utilities for creating and running custom tools."
   ]
  },
  {
   "cell_type": "markdown",
   "id": "908f35ee",
   "metadata": {},
   "source": []
  }
 ],
 "metadata": {
  "language_info": {
   "name": "python"
  }
 },
 "nbformat": 4,
 "nbformat_minor": 5
}
